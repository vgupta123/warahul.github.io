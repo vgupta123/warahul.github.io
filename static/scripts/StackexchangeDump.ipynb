{
 "metadata": {
  "name": "",
  "signature": "sha256:29f3eb72c428abe5b70b024a20b79ee3b73801457050cde5f64957fcaad7e01b"
 },
 "nbformat": 3,
 "nbformat_minor": 0,
 "worksheets": [
  {
   "cells": [
    {
     "cell_type": "code",
     "collapsed": false,
     "input": [
      "from __future__ import print_function\n",
      "import stackexchange #install this using easy_install: easy_install Py-StackExchange\n",
      "import os\n",
      "\n",
      "st = stackexchange.Site(stackexchange.StatisticalAnalysis, app_key=os.environ[SE_KEY]) #This is Theja's key, you should use your own\n",
      "st.impose_throttling = True\n",
      "st.throttle_stop = False\n",
      "st.be_inclusive()\n",
      "#Theja's Cross Validated Address: http://stats.stackexchange.com/users/30815/\n",
      "theja = st.user(30815)\n",
      "answers = theja.answers.fetch()\n",
      "#dir(question)"
     ],
     "language": "python",
     "metadata": {},
     "outputs": [],
     "prompt_number": 1
    },
    {
     "cell_type": "code",
     "collapsed": false,
     "input": [
      "import time\n",
      "f_se_stats =open('../../_posts/2014-11-09-Stats-Stackechange.md', 'wb')#hardcoded date of the article.\n",
      "f_se_stats.write('---\\n')\n",
      "f_se_stats.write('layout: post\\n')\n",
      "f_se_stats.write('title:  \"Theja\\'s Stats.Stackexchange Footprint/Mirror\" \\n')\n",
      "f_se_stats.write('---\\n\\n')\n",
      "f_se_stats.write('\\n\\n\\nHi folks! I took the opportunity to select out my answers to some stackexchange questions and reproduce them here. ')\n",
      "f_se_stats.write(' The questions are by various users on Stackexchange and the answers are mine. ') \n",
      "f_se_stats.write(' I have linked the original content in the question titles. The post is long because some of the questions are long :) . ')\n",
      "f_se_stats.write(' I used Py-StackExchnage to generate this using a hackish python notebook. It is available [here](http://nbviewer.ipython.org/github/thejat/thejat.github.io/blob/master/static/scripts/StackexchangeDump.ipynb). ')\n",
      "f_se_stats.write(' This list was generated on '+time.asctime( time.localtime(time.time()) )+'. Hope you find this a good read.\\n\\n\\n')\n",
      "\n",
      "counter = 0\n",
      "for a in answers:\n",
      "    answer = st.answer(a.id)\n",
      "    question = st.question(answer.question_id)\n",
      "    counter +=1\n",
      "    f_se_stats.write('------\\n')\n",
      "    f_se_stats.write('\\n### Question ' + str(counter) + ': ')\n",
      "    f_se_stats.write('['+question.title.encode('utf-8')+']('+question.url+')')\n",
      "    f_se_stats.write('\\n\\n{% raw %}\\n')\n",
      "    f_se_stats.write(question.body.encode('utf-8'))\n",
      "    f_se_stats.write('\\n{% endraw%}\\n\\n')\n",
      "    f_se_stats.write('### My Answer:\\n\\n')\n",
      "    f_se_stats.write('{% raw %}\\n')\n",
      "    f_se_stats.write(answer.body.encode('utf-8'))\n",
      "    f_se_stats.write('\\n{% endraw%}\\n\\n\\n\\n\\n')\n",
      "\n",
      "f_se_stats.close()"
     ],
     "language": "python",
     "metadata": {},
     "outputs": [],
     "prompt_number": 7
    },
    {
     "cell_type": "code",
     "collapsed": false,
     "input": [],
     "language": "python",
     "metadata": {},
     "outputs": [],
     "prompt_number": 4
    }
   ],
   "metadata": {}
  }
 ]
}