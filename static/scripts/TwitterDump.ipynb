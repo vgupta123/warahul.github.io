{
 "metadata": {
  "name": "",
  "signature": "sha256:74124a5334550ceb3a70f99654cb22f5080ecfe06f7713fdf10095266b7512df"
 },
 "nbformat": 3,
 "nbformat_minor": 0,
 "worksheets": [
  {
   "cells": [
    {
     "cell_type": "code",
     "collapsed": false,
     "input": [
      "#!/usr/bin/env python \n",
      "#The above line is not needed here\n",
      "\n",
      "'''\n",
      "This script accesses twitter through [tweepy's] Oauth mechanism and reads the authenticating user's data. \n",
      "Formats it into a markdown file for consumption with jekyll.\n",
      "Essentially the aim is to mirror the user's tweets in case twitter goes bonkers.\n",
      "'''\n",
      "\n",
      "# Imports\n",
      "import tweepy #to talk to twitter through oauth. 85 contributors as of Nov 2014! https://github.com/tweepy/tweepy\n",
      "import os  #do source the appropriate environ variables (TWITTER_X below) using a source call. See readme.md\n",
      "    \n",
      "# Consumer keys and access tokens, used for OAuth will be read from environ variables\n",
      " \n",
      "# OAuth process, using the keys and tokens\n",
      "auth = tweepy.OAuthHandler(consumer_key=os.environ.get('TWITTER_CONSUMER_KEY'), \n",
      "                           consumer_secret=os.environ.get('TWITTER_CONSUMER_SECRET'))\n",
      "auth.set_access_token(key=os.environ.get('TWITTER_ACCESS_TOKEN'), secret=os.environ.get('TWITTER_ACCESS_TOKEN_SECRET'))\n",
      " \n",
      "# Creation of the actual interface, using authentication\n",
      "api = tweepy.API(auth_handler=auth, secure=True, retry_count=3) #wait_on_rate_limit\n",
      " \n",
      "user = api.me()\n",
      "\n",
      "print('Name: ' + user.name)\n",
      "print('Location: ' + user.location)\n",
      "#print('Friends: ' + str(user.friends_count))"
     ],
     "language": "python",
     "metadata": {},
     "outputs": [
      {
       "output_type": "stream",
       "stream": "stdout",
       "text": [
        "Name: theja tulabandhula\n",
        "Location: Cambridge MA\n"
       ]
      }
     ],
     "prompt_number": 1
    },
    {
     "cell_type": "code",
     "collapsed": false,
     "input": [
      "#Fetching my tweets, there is an upper limit of 3200 I think. I am well below this limit, have to investigate this further.\n",
      "#http://tweepy.readthedocs.org/en/v2.3.0/api.html?highlight=user_timeline#API.user_timeline\n",
      "user_tweets = api.user_timeline(screen_name = 'theja2t', count = 3200, include_rts = True)"
     ],
     "language": "python",
     "metadata": {},
     "outputs": [],
     "prompt_number": 2
    },
    {
     "cell_type": "code",
     "collapsed": false,
     "input": [
      "len(user_tweets)"
     ],
     "language": "python",
     "metadata": {},
     "outputs": [
      {
       "metadata": {},
       "output_type": "pyout",
       "prompt_number": 4,
       "text": [
        "173"
       ]
      }
     ],
     "prompt_number": 4
    },
    {
     "cell_type": "code",
     "collapsed": false,
     "input": [
      "#Formatting for Jekyll\n",
      "\n",
      "import time\n",
      "f_twitter =open('../../_posts/2014-11-16-Theja-the-sparse-tweeter.md', 'wb')#hardcoded date of the article.\n",
      "f_twitter.write('---\\n')\n",
      "f_twitter.write('layout: post\\n')\n",
      "f_twitter.write('title:  \"Theja\\'s tweeting history using tweepy\" \\n')\n",
      "f_twitter.write('---\\n\\n')\n",
      "f_twitter.write('\\n\\n\\nSince extracting my answers from stackexchange (only crossvalidated though), I thought I should do it for twitter as well.')\n",
      "f_twitter.write(' I used the tweepy package to get my tweets. ') \n",
      "f_twitter.write(' The python code is available as a notebook [here](http://nbviewer.ipython.org/github/thejat/thejat.github.io/blob/master/static/scripts/TwitterDump.ipynb). ')\n",
      "f_twitter.write(' This list was generated on '+time.asctime( time.localtime(time.time()) )+'. Hope you find this a good random walk.\\n\\n\\n')\n",
      "\n",
      "mmyy = datetime.date.today().strftime('%B %Y')\n",
      "f_twitter.write('\\n------\\n')\n",
      "f_twitter.write('\\n###  ' + mmyy + ': ')\n",
      "for tweet in user_tweets:\n",
      "    tweet_mmyy = tweet.created_at.strftime('%B %Y')\n",
      "    if(mmyy != tweet_mmyy):\n",
      "        mmyy = tweet_mmyy\n",
      "        f_twitter.write('------\\n')\n",
      "        f_twitter.write('\\n###  ' + mmyy + ': ')\n",
      "    f_twitter.write('\\n - *Date ' + str(tweet.created_at) + '* > ')\n",
      "    f_twitter.write('{% raw %}' + tweet.text.encode('utf-8')+'\\n{% endraw%}\\n\\n')\n",
      "        \n",
      "f_twitter.close()"
     ],
     "language": "python",
     "metadata": {},
     "outputs": [],
     "prompt_number": 31
    },
    {
     "cell_type": "code",
     "collapsed": false,
     "input": [
      "'''\n",
      "Below this is only for my own reference. Akin to backup slides :)\n",
      "'''"
     ],
     "language": "python",
     "metadata": {},
     "outputs": []
    },
    {
     "cell_type": "code",
     "collapsed": false,
     "input": [
      "#Misc 1: home_timeline to get my and my friends' data. If I only want my own data, I should use user_timeline()\n",
      "\n",
      "#http://tweepy.readthedocs.org/en/v2.3.0/api.html?highlight=user_timeline#API.home_timeline\n",
      "\n",
      "our_tweets = api.home_timeline(count = 5, include_rts = True)\n",
      "for tweet in our_tweets: # if you want to print from old to new, use reversed() function\n",
      "    print tweet.text"
     ],
     "language": "python",
     "metadata": {},
     "outputs": [
      {
       "output_type": "stream",
       "stream": "stdout",
       "text": [
        "\"In Japanese, you wouldn't say, \"I go to the store.\" It would be more like \"I to the store go.\" In other words, everyone talks like Yoda.\"\n",
        "Naruto ended this week! Thank you to the creators and everyone for the hard work.\n",
        "log(1+2+3)=log1+log2+log3\n",
        "\"Simple solutions are key to maintainability!\" one of the most important keys to success.\n",
        "'Just as Ramsey theory elucidates the impossibility of total disorder, discrepancy theory studies the deviations from total uniformity'-wiki\n"
       ]
      },
      {
       "metadata": {},
       "output_type": "pyout",
       "prompt_number": 36,
       "text": [
        "\"\\n#Prints a lot of text to screen\\nstuff = api.user_timeline(screen_name = 'theja2t', count = 2, include_rts = True)\\nfor status in stuff:\\n    print status._json\\n    print status.author, status.user\\n    print dir(status)\\n\""
       ]
      }
     ],
     "prompt_number": 36
    },
    {
     "cell_type": "code",
     "collapsed": false,
     "input": [
      "#Misc 2: Getting the authenticating user's public tweets, friends and mentions \n",
      "def fetch_public_tweets(api):\n",
      "    \"\"\"Fetch public tweets from my timeline\"\"\"\n",
      "    public_tweets = api.home_timeline()\n",
      "    return public_tweets\n",
      "\n",
      "def fetch_friends(api):\n",
      "    \"\"\"Fetch friend list from twitter\"\"\"\n",
      "    friends = api.friends_ids()\n",
      "    return friends\n",
      "\n",
      "def fetch_mentions(api):\n",
      "    \"\"\"Fetch mentions from twitter\"\"\"\n",
      "    replies = api.mentions_timeline()\n",
      "    return replies\n",
      "\n",
      "friends = fetch_friends(api)\n",
      "replies = fetch_mentions(api)\n",
      "public_tweets = fetch_public_tweets(api)\n",
      "\n",
      "log(at='fetched_from_api', friends=len(friends), mentions=len(replies), ptweets=len(public_tweets))"
     ],
     "language": "python",
     "metadata": {},
     "outputs": [
      {
       "output_type": "stream",
       "stream": "stdout",
       "text": [
        "at=fetched_from_api friends=60 mentions=7 ptweets=20\n"
       ]
      }
     ],
     "prompt_number": 4
    },
    {
     "cell_type": "code",
     "collapsed": false,
     "input": [
      "#Misc 3: Show the rate Limits\n",
      "'''\n",
      "status = api.rate_limit_status()\n",
      "dir(status)\n",
      "'''"
     ],
     "language": "python",
     "metadata": {},
     "outputs": [],
     "prompt_number": 25
    },
    {
     "cell_type": "code",
     "collapsed": false,
     "input": [
      "# Misc 4: Check if the environment variables for authentication exist\n",
      "def log(**kwargs):\n",
      "    # from https://github.com/chooper/twitter-repeater\n",
      "    print ' '.join( \"{0}={1}\".format(k,v) for k,v in sorted(kwargs.items()) )\n",
      "    \n",
      "def validate_env():\n",
      "    keys = [\n",
      "        'TWITTER_CONSUMER_KEY',\n",
      "        'TWITTER_CONSUMER_SECRET',\n",
      "        'TWITTER_ACCESS_TOKEN',\n",
      "        'TWITTER_ACCESS_TOKEN_SECRET',\n",
      "        ]\n",
      "\n",
      "    # Check for missing env vars\n",
      "    for key in keys:\n",
      "        v = os.environ.get(key)\n",
      "        if not v:\n",
      "            log(at='validate_env', status='missing', var=key)\n",
      "            raise ValueError(\"Missing ENV var: {0}\".format(key))\n",
      "\n",
      "    # Log success\n",
      "    log(at='validate_env', status='ok')\n",
      "\n",
      "#validate_env()"
     ],
     "language": "python",
     "metadata": {},
     "outputs": [
      {
       "output_type": "stream",
       "stream": "stdout",
       "text": [
        "at=validate_env status=ok\n"
       ]
      }
     ],
     "prompt_number": 2
    },
    {
     "cell_type": "code",
     "collapsed": false,
     "input": [
      "#Misc 5: A helper function which indicates whether we have been rate limited or not\n",
      "#Potential rate limit issues, from http://stackoverflow.com/questions/21308762/avoid-twitter-api-limitation-with-tweepy?rq=1\n",
      "def test_rate_limit(api, wait=True, buffer=.1):\n",
      "    \"\"\"\n",
      "    Tests whether the rate limit of the last request has been reached.\n",
      "    :param api: The `tweepy` api instance.\n",
      "    :param wait: A flag indicating whether to wait for the rate limit reset\n",
      "                 if the rate limit has been reached.\n",
      "    :param buffer: A buffer time in seconds that is added on to the waiting\n",
      "                   time as an extra safety margin.\n",
      "    :return: True if it is ok to proceed with the next request. False otherwise.\n",
      "    \"\"\"\n",
      "    #Get the number of remaining requests\n",
      "    remaining = int(api.last_response.getheader('x-rate-limit-remaining'))\n",
      "    #Check if we have reached the limit\n",
      "    if remaining == 0:\n",
      "        limit = int(api.last_response.getheader('x-rate-limit-limit'))\n",
      "        reset = int(api.last_response.getheader('x-rate-limit-reset'))\n",
      "        #Parse the UTC time\n",
      "        reset = datetime.fromtimestamp(reset)\n",
      "        #Let the user know we have reached the rate limit\n",
      "        print \"0 of {} requests remaining until {}.\".format(limit, reset)\n",
      "\n",
      "        if wait:\n",
      "            #Determine the delay and sleep\n",
      "            delay = (reset - datetime.now()).total_seconds() + buffer\n",
      "            print \"Sleeping for {}s...\".format(delay)\n",
      "            sleep(delay)\n",
      "            #We have waited for the rate limit reset. OK to proceed.\n",
      "            return True\n",
      "        else:\n",
      "            #We have reached the rate limit. The user needs to handle the rate limit manually.\n",
      "            return False \n",
      "\n",
      "    #We have not reached the rate limit\n",
      "    return True\n",
      "'''\n",
      "test_rate_limit(api)\n",
      "print 'limit' + str(api.last_response.getheader('x-rate-limit-limit'))\n",
      "print 'remaining' + str(api.last_response.getheader('x-rate-limit-remaining'))\n",
      "'''"
     ],
     "language": "python",
     "metadata": {},
     "outputs": [
      {
       "metadata": {},
       "output_type": "pyout",
       "prompt_number": 15,
       "text": [
        "True"
       ]
      }
     ],
     "prompt_number": 15
    },
    {
     "cell_type": "code",
     "collapsed": false,
     "input": [
      "#Misc 6: Haven't tried. [Source to be attributed]\n",
      "'''\n",
      "import urllib\n",
      "import xml.dom.minidom as minidom\n",
      "\n",
      "def printTweets(username):\n",
      " timeline_xml = urllib.urlopen(\"http://twitter.com/statuses/user_timeline.json?screen_name=\"+username)\n",
      " doc = minidom.parse(timeline_xml) # we're using the twitter xml format\n",
      " tweets = doc.getElementsByTagName(\"text\") # tweet text is in ...\n",
      " \n",
      " for tweet in tweets:\n",
      "  print \"tweet:\",tweet.childNodes[0].data,\"\\n\"\n",
      "\n",
      "## call the our function\n",
      "printTweets(\"theja2t\")\n",
      "'''"
     ],
     "language": "python",
     "metadata": {},
     "outputs": []
    },
    {
     "cell_type": "code",
     "collapsed": false,
     "input": [
      "#Misc 7: Something to do with pages. [To be investigated]\n",
      "for page in tweepy.Cursor(api.user_timeline(include_rts=True), count=200).pages(16):\n",
      "    page_list.append(page)\n",
      "    n = n+1\n",
      "    print n\n",
      "\n",
      "for page in page_list:\n",
      "    for status in page:\n",
      "       print status.text"
     ],
     "language": "python",
     "metadata": {},
     "outputs": []
    },
    {
     "cell_type": "code",
     "collapsed": false,
     "input": [
      "#Misc 8: latest status of the authenticating user\n",
      "for status in tweepy.Cursor(api.user_timeline).items():\n",
      "    lastid = status.id\n",
      "    laststatus = api.get_status(lastid).text\n",
      "    break\n",
      "#laststatus1 = next(tweepy.Cursor(api.user_timeline).items(), None) #altenative, without for loop, from StackOverfloe"
     ],
     "language": "python",
     "metadata": {},
     "outputs": []
    }
   ],
   "metadata": {}
  }
 ]
}